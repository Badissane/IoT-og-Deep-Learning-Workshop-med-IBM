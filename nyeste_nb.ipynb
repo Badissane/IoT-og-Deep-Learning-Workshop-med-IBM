{
    "nbformat_minor": 1, 
    "cells": [
        {
            "execution_count": null, 
            "cell_type": "code", 
            "metadata": {}, 
            "outputs": [], 
            "source": "import pip\n\ntry:\n    __import__('keras')\nexcept ImportError:\n    pip.main(['install', 'keras']) \n    \ntry:\n    __import__('h5py')\nexcept ImportError:\n    pip.main(['install', 'h5py']) \n    \ntry:\n    __import__('ibmiotf')\nexcept ImportError:\n    pip.main(['install', 'ibmiotf']) \n"
        }, 
        {
            "execution_count": null, 
            "cell_type": "code", 
            "metadata": {}, 
            "outputs": [], 
            "source": "import numpy as np\nfrom numpy import concatenate\nfrom matplotlib import pyplot\nfrom pandas import read_csv\nfrom pandas import DataFrame\nfrom pandas import concat\nimport sklearn\nfrom  sklearn.preprocessing import MinMaxScaler\nfrom sklearn.preprocessing import MinMaxScaler\nfrom sklearn.preprocessing import LabelEncoder\nfrom sklearn.metrics import mean_squared_error\nfrom keras.models import Sequential\nfrom keras.layers import Dense\nfrom keras.layers import LSTM\nfrom keras.callbacks import Callback\nfrom keras.models import Sequential\nfrom keras.layers import LSTM, Dense, Activation\nimport pickle\nimport matplotlib.pyplot as plt\nfrom mpl_toolkits.mplot3d import Axes3D\nimport ibmiotf.application\nfrom queue import Queue\n# remove the two next lines if you run on a anything else that the Free plan!\nfrom keras import backend as K\nK.set_session(K.tf.Session(config=K.tf.ConfigProto(intra_op_parallelism_threads=1, inter_op_parallelism_threads=1)))\n\n%matplotlib inline"
        }, 
        {
            "execution_count": null, 
            "cell_type": "code", 
            "metadata": {
                "scrolled": true
            }, 
            "outputs": [], 
            "source": "!rm watsoniotp.*\n!wget https://raw.githubusercontent.com/romeokienzler/developerWorks/master/lorenzattractor/watsoniotp.healthy.phase_aligned.pickle\n!wget https://raw.githubusercontent.com/romeokienzler/developerWorks/master/lorenzattractor/watsoniotp.broken.phase_aligned.pickle"
        }, 
        {
            "execution_count": null, 
            "cell_type": "code", 
            "metadata": {}, 
            "outputs": [], 
            "source": "data_healthy = pickle.load(open('watsoniotp.healthy.phase_aligned.pickle', 'rb'), encoding='bytes')\ndata_broken = pickle.load(open('watsoniotp.broken.phase_aligned.pickle', 'rb'), encoding='bytes')"
        }, 
        {
            "execution_count": null, 
            "cell_type": "code", 
            "metadata": {}, 
            "outputs": [], 
            "source": "data_healthy = data_healthy.reshape(3000,3)\ndata_broken = data_broken.reshape(3000,3)"
        }, 
        {
            "execution_count": null, 
            "cell_type": "code", 
            "metadata": {}, 
            "outputs": [], 
            "source": "fig, ax = plt.subplots(num=None, figsize=(14, 6), dpi=80, facecolor='w', edgecolor='k')\nsize = len(data_healthy)\n#ax.set_ylim(0,energy.max())\nax.plot(range(0,size), data_healthy[:,0], '-', color='blue', animated = True, linewidth=1)\nax.plot(range(0,size), data_healthy[:,1], '-', color='red', animated = True, linewidth=1)\nax.plot(range(0,size), data_healthy[:,2], '-', color='green', animated = True, linewidth=1)"
        }, 
        {
            "execution_count": null, 
            "cell_type": "code", 
            "metadata": {}, 
            "outputs": [], 
            "source": "fig, ax = plt.subplots(num=None, figsize=(14, 6), dpi=80, facecolor='w', edgecolor='k')\nsize = len(data_healthy)\n#ax.set_ylim(0,energy.max())\nax.plot(range(0,size), data_broken[:,0], '-', color='blue', animated = True, linewidth=1)\nax.plot(range(0,size), data_broken[:,1], '-', color='red', animated = True, linewidth=1)\nax.plot(range(0,size), data_broken[:,2], '-', color='green', animated = True, linewidth=1)"
        }, 
        {
            "execution_count": null, 
            "cell_type": "code", 
            "metadata": {
                "scrolled": true
            }, 
            "outputs": [], 
            "source": "data_healthy_fft = np.fft.fft(data_healthy)\ndata_broken_fft = np.fft.fft(data_broken)\nprint(len(data_broken_fft))"
        }, 
        {
            "execution_count": null, 
            "cell_type": "code", 
            "metadata": {}, 
            "outputs": [], 
            "source": "fig, ax = plt.subplots(num=None, figsize=(14, 6), dpi=80, facecolor='w', edgecolor='k')\nsize = len(data_healthy_fft)\nax.plot(range(0,size), data_healthy_fft[:,0].real, '-', color='blue', animated = True, linewidth=1)\nax.plot(range(0,size), data_healthy_fft[:,1].imag, '-', color='red', animated = True, linewidth=1)\nax.plot(range(0,size), data_healthy_fft[:,2].real, '-', color='green', animated = True, linewidth=1)\n"
        }, 
        {
            "execution_count": null, 
            "cell_type": "code", 
            "metadata": {}, 
            "outputs": [], 
            "source": "fig, ax = plt.subplots(num=None, figsize=(14, 6), dpi=80, facecolor='w', edgecolor='k')\nsize = len(data_healthy_fft)\nax.plot(range(0,size), data_broken_fft[:,0].real, '-', color='blue', animated = True, linewidth=1)\nax.plot(range(0,size), data_broken_fft[:,1].imag, '-', color='red', animated = True, linewidth=1)\nax.plot(range(0,size), data_broken_fft[:,2].real, '-', color='green', animated = True, linewidth=1)\n"
        }, 
        {
            "execution_count": null, 
            "cell_type": "code", 
            "metadata": {}, 
            "outputs": [], 
            "source": "def scaleData(data):\n    # normalize features\n    scaler = MinMaxScaler(feature_range=(0, 1))\n    return scaler.fit_transform(data)"
        }, 
        {
            "execution_count": null, 
            "cell_type": "code", 
            "metadata": {}, 
            "outputs": [], 
            "source": "data_healthy_scaled = scaleData(data_healthy)\ndata_broken_scaled = scaleData(data_broken)"
        }, 
        {
            "execution_count": null, 
            "cell_type": "code", 
            "metadata": {}, 
            "outputs": [], 
            "source": "timesteps = 10\ndim = 3\nsamples = 3000\ndata_healthy_scaled_reshaped = data_healthy_scaled\n#reshape to (300,10,3)\ndata_healthy_scaled_reshaped.shape = (int(samples/timesteps),timesteps,dim)"
        }, 
        {
            "execution_count": null, 
            "cell_type": "code", 
            "metadata": {
                "scrolled": true
            }, 
            "outputs": [], 
            "source": "losses = []\n\ndef handleLoss(loss):\n        global losses\n        losses+=[loss]\n        #print(loss)"
        }, 
        {
            "execution_count": null, 
            "cell_type": "code", 
            "metadata": {}, 
            "outputs": [], 
            "source": "class LossHistory(Callback):\n    def on_train_begin(self, logs={}):\n        self.losses = []\n\n    def on_batch_end(self, batch, logs={}):\n        self.losses.append(logs.get('loss'))\n        handleLoss(logs.get('loss'))"
        }, 
        {
            "execution_count": null, 
            "cell_type": "code", 
            "metadata": {}, 
            "outputs": [], 
            "source": "# design network\n\nmodel = Sequential()\nmodel.add(LSTM(50,input_shape=(timesteps,dim),return_sequences=True))\nmodel.add(LSTM(50,input_shape=(timesteps,dim),return_sequences=True))\nmodel.add(LSTM(50,input_shape=(timesteps,dim),return_sequences=True))\nmodel.add(LSTM(50,input_shape=(timesteps,dim),return_sequences=True))\nmodel.add(LSTM(50,input_shape=(timesteps,dim),return_sequences=True))\nmodel.add(LSTM(50,input_shape=(timesteps,dim),return_sequences=True))\nmodel.add(LSTM(50,input_shape=(timesteps,dim),return_sequences=True))\nmodel.add(LSTM(50,input_shape=(timesteps,dim),return_sequences=True))\nmodel.add(LSTM(50,input_shape=(timesteps,dim),return_sequences=True))\nmodel.add(LSTM(50,input_shape=(timesteps,dim),return_sequences=True))\nmodel.add(LSTM(50,input_shape=(timesteps,dim),return_sequences=True))\nmodel.add(Dense(3))\nmodel.compile(loss='mae', optimizer='adam')\n\ndef train(data):\n    data.shape = (300, 10, 3)\n    model.fit(data, data, epochs=50, batch_size=72, validation_data=(data, data), verbose=0, shuffle=False,callbacks=[LossHistory()])\n    data.shape = (3000, 3)\n\ndef score(data):\n    data.shape = (300, 10, 3)\n    yhat =  model.predict(data)\n    yhat.shape = (3000, 3)\n    return yhat"
        }, 
        {
            "execution_count": null, 
            "cell_type": "code", 
            "metadata": {
                "scrolled": true
            }, 
            "outputs": [], 
            "source": "# This will run the training 20 times for healthy data and one time for the borken data... Change the number in the for loop to savne time for the lab...\nfor i in range(20):\n    \n    print(\"----------------healthy\")\n    train(data_healthy_scaled)\n    yhat_healthy = score(data_healthy_scaled)\n    yhat_broken = score(data_broken_scaled)\n    data_healthy_scaled.shape = (3000, 3)\n    data_broken_scaled.shape = (3000, 3)\n\n\nprint(\"----------------broken\")\ntrain(data_broken_scaled)\nyhat_healthy = score(data_healthy_scaled)\nyhat_broken = score(data_broken_scaled)\ndata_healthy_scaled.shape = (3000, 3)\ndata_broken_scaled.shape = (3000, 3)\nprint(len(data_broken_scaled))\nprint(len(losses))"
        }, 
        {
            "execution_count": null, 
            "cell_type": "code", 
            "metadata": {
                "scrolled": true
            }, 
            "outputs": [], 
            "source": "print(len(data_healthy_scaled))\nfig, ax = plt.subplots(num=None, figsize=(14, 6), dpi=80, facecolor='w', edgecolor='k')\nsize = len(data_healthy_fft)\n#ax.set_ylim(0,energy.max())\nax.plot(range(0,len(losses)), losses, '-', color='blue', animated = True, linewidth=1)"
        }, 
        {
            "execution_count": null, 
            "cell_type": "code", 
            "metadata": {}, 
            "outputs": [], 
            "source": "# Replace teh org, auth-key and auth-token with your credentials...\noptions = {\"org\": \"yd5glp\", \"id\": \"anything\", \"auth-method\": \"apikey\", \"auth-key\": \"a-yd5glp-mqhvy8oeg9\", \"auth-token\": \"J&6WUI&N-LqRXrtF-S\"}\nclient = ibmiotf.application.Client(options)\nclient.connect()"
        }, 
        {
            "execution_count": null, 
            "cell_type": "code", 
            "metadata": {}, 
            "outputs": [], 
            "source": "q = Queue(7000)"
        }, 
        {
            "execution_count": null, 
            "cell_type": "code", 
            "metadata": {}, 
            "outputs": [], 
            "source": "def myEventCallback(event):\n    sample = event.data\n    point = [sample[\"x\"], sample[\"y\"],sample[\"z\"]]\n    q.put(point)\n\nclient.deviceEventCallback = myEventCallback\nclient.subscribeToDeviceEvents(\"0.16.2\", \"lorenz\", \"osc\")"
        }, 
        {
            "execution_count": null, 
            "cell_type": "code", 
            "metadata": {}, 
            "outputs": [], 
            "source": "def doNN(data):\n    data_scaled = scaleData(data)\n    train(data_scaled)\n    yhat = score(data_scaled)\n    data_scaled.shape = (3000, 3)"
        }, 
        {
            "execution_count": null, 
            "cell_type": "code", 
            "metadata": {}, 
            "outputs": [], 
            "source": "def handleLoss(loss):\n        myData={'loss' : str(loss)}\n        client.publishEvent(\"0.16.2\", \"lorenz\", \"status\", \"json\", myData)"
        }, 
        {
            "execution_count": null, 
            "cell_type": "code", 
            "metadata": {}, 
            "outputs": [], 
            "source": "import numpy as np\nwhile True:\n    while not q.empty():\n        point = q.get()\n        try:\n            data\n        except NameError:\n            data = np.array(point)\n        else:\n            data = np.append(data,point)\n        if data.size>=9000:\n            data = np.reshape(data,(3000,3))\n            print(data)\n            doNN(data)\n            del data\n"
        }, 
        {
            "execution_count": null, 
            "cell_type": "code", 
            "metadata": {}, 
            "outputs": [], 
            "source": ""
        }
    ], 
    "metadata": {
        "kernelspec": {
            "display_name": "Python 3.5", 
            "name": "python3", 
            "language": "python"
        }, 
        "language_info": {
            "mimetype": "text/x-python", 
            "nbconvert_exporter": "python", 
            "version": "3.5.4", 
            "name": "python", 
            "file_extension": ".py", 
            "pygments_lexer": "ipython3", 
            "codemirror_mode": {
                "version": 3, 
                "name": "ipython"
            }
        }
    }, 
    "nbformat": 4
}